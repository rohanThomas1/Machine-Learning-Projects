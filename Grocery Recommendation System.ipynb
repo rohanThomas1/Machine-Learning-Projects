{
 "cells": [
  {
   "cell_type": "markdown",
   "id": "1996f652",
   "metadata": {},
   "source": [
    "# Grocery Recommendation System"
   ]
  },
  {
   "cell_type": "markdown",
   "id": "4c053185",
   "metadata": {},
   "source": [
    "### Importing Packages"
   ]
  },
  {
   "cell_type": "code",
   "execution_count": 30,
   "id": "98c3e028",
   "metadata": {},
   "outputs": [],
   "source": [
    "#importing all necessary libraries\n",
    "import pandas as pd\n",
    "from mlxtend.preprocessing import TransactionEncoder\n",
    "from mlxtend.frequent_patterns import apriori\n",
    "from mlxtend.frequent_patterns import association_rules\n",
    "from sklearn.metrics.pairwise import cosine_similarity\n",
    "import seaborn as sns\n",
    "import matplotlib.pyplot as plt\n",
    "import time\n",
    "\n",
    "import warnings\n",
    "warnings.filterwarnings('ignore')"
   ]
  },
  {
   "cell_type": "markdown",
   "id": "c19d4139",
   "metadata": {},
   "source": [
    "#### EDA"
   ]
  },
  {
   "cell_type": "code",
   "execution_count": 31,
   "id": "70bb6e9b",
   "metadata": {},
   "outputs": [
    {
     "data": {
      "text/html": [
       "<div>\n",
       "<style scoped>\n",
       "    .dataframe tbody tr th:only-of-type {\n",
       "        vertical-align: middle;\n",
       "    }\n",
       "\n",
       "    .dataframe tbody tr th {\n",
       "        vertical-align: top;\n",
       "    }\n",
       "\n",
       "    .dataframe thead th {\n",
       "        text-align: right;\n",
       "    }\n",
       "</style>\n",
       "<table border=\"1\" class=\"dataframe\">\n",
       "  <thead>\n",
       "    <tr style=\"text-align: right;\">\n",
       "      <th></th>\n",
       "      <th>Member_number</th>\n",
       "      <th>Date</th>\n",
       "      <th>itemDescription</th>\n",
       "      <th>year</th>\n",
       "      <th>month</th>\n",
       "      <th>day</th>\n",
       "      <th>day_of_week</th>\n",
       "    </tr>\n",
       "  </thead>\n",
       "  <tbody>\n",
       "    <tr>\n",
       "      <th>0</th>\n",
       "      <td>3021</td>\n",
       "      <td>30/01/2015</td>\n",
       "      <td>frankfurter</td>\n",
       "      <td>2015</td>\n",
       "      <td>1</td>\n",
       "      <td>30</td>\n",
       "      <td>4</td>\n",
       "    </tr>\n",
       "    <tr>\n",
       "      <th>1</th>\n",
       "      <td>1292</td>\n",
       "      <td>24/10/2015</td>\n",
       "      <td>pork</td>\n",
       "      <td>2015</td>\n",
       "      <td>10</td>\n",
       "      <td>24</td>\n",
       "      <td>5</td>\n",
       "    </tr>\n",
       "    <tr>\n",
       "      <th>2</th>\n",
       "      <td>4206</td>\n",
       "      <td>4/04/2014</td>\n",
       "      <td>root vegetables</td>\n",
       "      <td>2014</td>\n",
       "      <td>4</td>\n",
       "      <td>4</td>\n",
       "      <td>4</td>\n",
       "    </tr>\n",
       "    <tr>\n",
       "      <th>3</th>\n",
       "      <td>4369</td>\n",
       "      <td>25/08/2015</td>\n",
       "      <td>onions</td>\n",
       "      <td>2015</td>\n",
       "      <td>8</td>\n",
       "      <td>25</td>\n",
       "      <td>1</td>\n",
       "    </tr>\n",
       "    <tr>\n",
       "      <th>4</th>\n",
       "      <td>1522</td>\n",
       "      <td>1/07/2014</td>\n",
       "      <td>waffles</td>\n",
       "      <td>2014</td>\n",
       "      <td>7</td>\n",
       "      <td>1</td>\n",
       "      <td>1</td>\n",
       "    </tr>\n",
       "  </tbody>\n",
       "</table>\n",
       "</div>"
      ],
      "text/plain": [
       "   Member_number        Date  itemDescription  year  month  day  day_of_week\n",
       "0           3021  30/01/2015      frankfurter  2015      1   30            4\n",
       "1           1292  24/10/2015             pork  2015     10   24            5\n",
       "2           4206   4/04/2014  root vegetables  2014      4    4            4\n",
       "3           4369  25/08/2015           onions  2015      8   25            1\n",
       "4           1522   1/07/2014          waffles  2014      7    1            1"
      ]
     },
     "execution_count": 31,
     "metadata": {},
     "output_type": "execute_result"
    }
   ],
   "source": [
    "new_data = pd.read_csv('Groceries data train.csv')\n",
    "new_data.head()"
   ]
  },
  {
   "cell_type": "code",
   "execution_count": 32,
   "id": "09dd4230",
   "metadata": {},
   "outputs": [
    {
     "data": {
      "text/html": [
       "<div>\n",
       "<style scoped>\n",
       "    .dataframe tbody tr th:only-of-type {\n",
       "        vertical-align: middle;\n",
       "    }\n",
       "\n",
       "    .dataframe tbody tr th {\n",
       "        vertical-align: top;\n",
       "    }\n",
       "\n",
       "    .dataframe thead th {\n",
       "        text-align: right;\n",
       "    }\n",
       "</style>\n",
       "<table border=\"1\" class=\"dataframe\">\n",
       "  <thead>\n",
       "    <tr style=\"text-align: right;\">\n",
       "      <th></th>\n",
       "      <th>Member_number</th>\n",
       "      <th>Date</th>\n",
       "      <th>itemDescription</th>\n",
       "    </tr>\n",
       "  </thead>\n",
       "  <tbody>\n",
       "    <tr>\n",
       "      <th>0</th>\n",
       "      <td>3021</td>\n",
       "      <td>30/01/2015</td>\n",
       "      <td>frankfurter</td>\n",
       "    </tr>\n",
       "    <tr>\n",
       "      <th>1</th>\n",
       "      <td>1292</td>\n",
       "      <td>24/10/2015</td>\n",
       "      <td>pork</td>\n",
       "    </tr>\n",
       "    <tr>\n",
       "      <th>2</th>\n",
       "      <td>4206</td>\n",
       "      <td>4/04/2014</td>\n",
       "      <td>root vegetables</td>\n",
       "    </tr>\n",
       "    <tr>\n",
       "      <th>3</th>\n",
       "      <td>4369</td>\n",
       "      <td>25/08/2015</td>\n",
       "      <td>onions</td>\n",
       "    </tr>\n",
       "    <tr>\n",
       "      <th>4</th>\n",
       "      <td>1522</td>\n",
       "      <td>1/07/2014</td>\n",
       "      <td>waffles</td>\n",
       "    </tr>\n",
       "  </tbody>\n",
       "</table>\n",
       "</div>"
      ],
      "text/plain": [
       "   Member_number        Date  itemDescription\n",
       "0           3021  30/01/2015      frankfurter\n",
       "1           1292  24/10/2015             pork\n",
       "2           4206   4/04/2014  root vegetables\n",
       "3           4369  25/08/2015           onions\n",
       "4           1522   1/07/2014          waffles"
      ]
     },
     "execution_count": 32,
     "metadata": {},
     "output_type": "execute_result"
    }
   ],
   "source": [
    "new_data = new_data.drop(columns=['year','month','day','day_of_week'])\n",
    "new_data.head()"
   ]
  },
  {
   "cell_type": "code",
   "execution_count": 33,
   "id": "0641fa79",
   "metadata": {},
   "outputs": [
    {
     "name": "stdout",
     "output_type": "stream",
     "text": [
      "<class 'pandas.core.frame.DataFrame'>\n",
      "RangeIndex: 27000 entries, 0 to 26999\n",
      "Data columns (total 3 columns):\n",
      " #   Column           Non-Null Count  Dtype \n",
      "---  ------           --------------  ----- \n",
      " 0   Member_number    27000 non-null  int64 \n",
      " 1   Date             27000 non-null  object\n",
      " 2   itemDescription  27000 non-null  object\n",
      "dtypes: int64(1), object(2)\n",
      "memory usage: 632.9+ KB\n"
     ]
    }
   ],
   "source": [
    "new_data.info()"
   ]
  },
  {
   "cell_type": "code",
   "execution_count": 34,
   "id": "9d5d62d4",
   "metadata": {},
   "outputs": [
    {
     "data": {
      "text/plain": [
       "3872"
      ]
     },
     "execution_count": 34,
     "metadata": {},
     "output_type": "execute_result"
    }
   ],
   "source": [
    "len(new_data[\"Member_number\"].unique())"
   ]
  },
  {
   "cell_type": "markdown",
   "id": "5340f95d",
   "metadata": {},
   "source": [
    "### Visualization"
   ]
  },
  {
   "cell_type": "code",
   "execution_count": 35,
   "id": "38a43aee",
   "metadata": {},
   "outputs": [
    {
     "data": {
      "image/png": "[encoded data removed]",
      "text/plain": [
       "<Figure size 720x432 with 1 Axes>"
      ]
     },
     "metadata": {
      "needs_background": "light"
     },
     "output_type": "display_data"
    }
   ],
   "source": [
    "# Plotting the frequency of top 10 items bought\n",
    "item_counts = new_data['itemDescription'].value_counts().sort_values(ascending=False) # calculate the frequency of each item\n",
    "top_items = item_counts[:10] # select only the top 10 frequent items\n",
    "items = top_items.index.tolist() # create lists of items and counts for the plot\n",
    "counts = top_items.values.tolist()\n",
    "plt.figure(figsize=(10, 6))\n",
    "sns.barplot(x=counts, y=items, palette=\"rocket\")# create a horizontal bar plot using seaborn\n",
    "plt.xlabel(\"Frequency\")\n",
    "plt.ylabel(\"Items\")\n",
    "plt.title(\"Top 10 Frequent Items\")# add labels and title to the plot\n",
    "plt.show()"
   ]
  },
  {
   "cell_type": "code",
   "execution_count": 36,
   "id": "1fd4f660",
   "metadata": {},
   "outputs": [],
   "source": [
    "#Function to preprocess the data before performing pattern mining and collaborative filtering\n",
    "def preprocess_data(filename):\n",
    "    data = pd.read_csv(filename) #reading the csv file into a dataframe\n",
    "    data = data.drop(columns=['year','month','day','day_of_week']) #dropping unnecessary columns\n",
    "    data['Date']= pd.to_datetime(data['Date']) #converting string to timestamp datatype\n",
    "    #print(data.head())\n",
    "    \n",
    "    data['single_transaction'] = data['Member_number'].astype(str)+'_'+data['Date'].astype(str) #merging Member_number and Date\n",
    "    df = pd.crosstab(data['single_transaction'], data['itemDescription']) #creating a cross tabular dataframe\n",
    "    #print(df.head())\n",
    "    \n",
    "    return df"
   ]
  },
  {
   "cell_type": "markdown",
   "id": "195f9b04",
   "metadata": {},
   "source": [
    "### Pattern Mining "
   ]
  },
  {
   "cell_type": "code",
   "execution_count": 37,
   "id": "0b62c41c",
   "metadata": {},
   "outputs": [],
   "source": [
    "#Function to encode all the values in a dataframe into 1 and 0\n",
    "def encode(item_freq):\n",
    "    res = 0\n",
    "    if item_freq > 0:\n",
    "        res = 1\n",
    "    return res"
   ]
  },
  {
   "cell_type": "code",
   "execution_count": 38,
   "id": "0879f30b",
   "metadata": {},
   "outputs": [],
   "source": [
    "#Function to predict items bought based on rules created\n",
    "def predict_items(rules, items):\n",
    "    predicted_items = [] #list to store the predicted items\n",
    "    confidence_values = [] #list to store the confidence values\n",
    "    support_values =[] #list to store the support values\n",
    "    \n",
    "    for index, row in rules.iterrows():\n",
    "        # get the items in the antecedent and consequent of the rule\n",
    "        antecedent = row[\"antecedents\"]\n",
    "        consequent = row[\"consequents\"]\n",
    "        #get the confidence and support values of the items\n",
    "        confidence = row[\"confidence\"]\n",
    "        support = row[\"support\"]\n",
    "        \n",
    "        # check if all the items in the antecedent are in the purchased items\n",
    "        if antecedent.issubset(items):\n",
    "            predicted_items.append(list(consequent)[0])\n",
    "            confidence_values.append(confidence)\n",
    "            support_values.append(support)\n",
    "    \n",
    "    predicted_items = pd.DataFrame({'confidence':confidence_values, 'support':support_values, 'predicted_items':predicted_items})\n",
    "    \n",
    "    # return the list of predicted items\n",
    "    return predicted_items"
   ]
  },
  {
   "cell_type": "code",
   "execution_count": 39,
   "id": "48ff87ce",
   "metadata": {},
   "outputs": [],
   "source": [
    "#Function to perform pattern mining using Apriori and association rules\n",
    "def frequent_pattern_mining(filename, search_item, min_support = 0.001, metric = \"lift\", min_threshold = 0.08):\n",
    "    df = preprocess_data(filename)\n",
    "    #print(df.head())\n",
    "    transactions = df.applymap(encode)\n",
    "    #print(transactions.head())\n",
    "        \n",
    "    frequent_itemsets = apriori(transactions, min_support = min_support, use_colnames = True)\n",
    "    #print(frequent_itemsets)\n",
    "    rules = association_rules(frequent_itemsets, metric = metric, min_threshold = min_threshold)\n",
    "    #print(rules)\n",
    "    items = set(search_item.split())\n",
    "    result = predict_items(rules, items)\n",
    "    \n",
    "    return result"
   ]
  },
  {
   "cell_type": "code",
   "execution_count": 40,
   "id": "d78febf3",
   "metadata": {},
   "outputs": [
    {
     "name": "stdout",
     "output_type": "stream",
     "text": [
      "The frequent items bought with pork are:\n",
      "   confidence   support   predicted_items\n",
      "0    0.039474  0.001079         margarine\n",
      "1    0.086842  0.002374  other vegetables\n",
      "2    0.063158  0.001726              soda\n",
      "3    0.097368  0.002662        whole milk\n"
     ]
    }
   ],
   "source": [
    "#Parameters\n",
    "filename = \"Groceries data train.csv\"\n",
    "search_item = \"pork\"\n",
    "min_support = 0.001\n",
    "metric = \"lift\"\n",
    "min_threshold = 0.8\n",
    "no_of_recommendations = 3\n",
    "\n",
    "#Pattern mining\n",
    "print(f\"The frequent items bought with {search_item} are:\")\n",
    "start_pattern_time = time.time()\n",
    "patterns = frequent_pattern_mining(filename, search_item, min_support, metric, min_threshold)\n",
    "end_pattern_time = time.time()\n",
    "print(patterns)\n",
    "\n",
    "time_taken_pattern = round((end_pattern_time-start_pattern_time),2)\n"
   ]
  },
  {
   "cell_type": "code",
   "execution_count": 41,
   "id": "2e75adce",
   "metadata": {},
   "outputs": [
    {
     "data": {
      "image/png": "[encoded data removed]",
      "text/plain": [
       "<Figure size 432x288 with 1 Axes>"
      ]
     },
     "metadata": {},
     "output_type": "display_data"
    }
   ],
   "source": [
    "import matplotlib.pyplot as plt\n",
    "\n",
    "\n",
    "plt.pie(patterns['confidence'],labels=patterns['predicted_items'], startangle=90, shadow=True, autopct='%1.2f%%')\n",
    "\n",
    "plt.title(f'Recommendation with confidence percentage for {search_item}')\n",
    "\n",
    "plt.axis('equal')\n",
    "\n",
    "plt.show()"
   ]
  },
  {
   "cell_type": "markdown",
   "id": "19f7e94a",
   "metadata": {},
   "source": [
    "### Collaborative filtering"
   ]
  },
  {
   "cell_type": "code",
   "execution_count": 42,
   "id": "c1f79f25",
   "metadata": {},
   "outputs": [],
   "source": [
    "#Function to perform collaborative filtering method\n",
    "def collaborative_filtering(filename, search_item):\n",
    "    df = preprocess_data(filename)\n",
    "    \n",
    "    #Calculating cosine similarity of train dataset\n",
    "    item_similarity = cosine_similarity(df.T)\n",
    "    item_similarity_df = pd.DataFrame(item_similarity, index=df.columns, columns=df.columns)\n",
    "    #print(item_similarity_df.head())\n",
    "    \n",
    "    #Recommendation generation of dataset using similarity score and collaborative filtering\n",
    "    item_idx = df.columns.get_loc(search_item)\n",
    "    sim_scores = item_similarity[item_idx]\n",
    "    sim_scores_df = pd.DataFrame({'similarity_scores': sim_scores, 'recommended_items': df.columns})\n",
    "    sim_scores_df = sim_scores_df.sort_values(by='similarity_scores', ascending=False)\n",
    "    \n",
    "    return sim_scores_df"
   ]
  },
  {
   "cell_type": "code",
   "execution_count": 43,
   "id": "f81514ba",
   "metadata": {},
   "outputs": [
    {
     "name": "stdout",
     "output_type": "stream",
     "text": [
      "\n",
      "Top 3 recommended items to buy along with pork are:\n",
      "     similarity_scores recommended_items\n",
      "102           0.046227  other vegetables\n",
      "164           0.044611        whole milk\n",
      "88            0.041956         margarine\n",
      "\n",
      "Time taken to load this dataset is 5.77 sec\n"
     ]
    }
   ],
   "source": [
    "#Parameters\n",
    "filename = \"Groceries data train.csv\"\n",
    "search_item = \"pork\"\n",
    "min_support = 0.001\n",
    "metric = \"lift\"\n",
    "min_threshold = 0.8\n",
    "no_of_recommendations = 3\n",
    "\n",
    "#recommendation through data\n",
    "print(f\"\\nTop {no_of_recommendations} recommended items to buy along with {search_item} are:\")\n",
    "start_recommend_time = time.time()\n",
    "recommendations = collaborative_filtering(filename, search_item)\n",
    "end_recommend_time = time.time()\n",
    "print(recommendations.iloc[1:no_of_recommendations+1])\n",
    "\n",
    "#Timing estimation\n",
    "time_taken_colaborative = round((end_recommend_time-start_recommend_time),2)\n",
    "total_time = time_taken_pattern+time_taken_colaborative\n",
    "print(f\"\\nTime taken to load this dataset is {total_time} sec\")"
   ]
  },
  {
   "cell_type": "code",
   "execution_count": 44,
   "id": "f214f344",
   "metadata": {},
   "outputs": [
    {
     "data": {
      "image/png": "[encoded data removed]",
      "text/plain": [
       "<Figure size 432x288 with 1 Axes>"
      ]
     },
     "metadata": {},
     "output_type": "display_data"
    }
   ],
   "source": [
    "import matplotlib.pyplot as plt\n",
    "\n",
    "\n",
    "plt.pie(recommendations.iloc[1:no_of_recommendations+1]['similarity_scores'],labels=recommendations.iloc[1:no_of_recommendations+1]['recommended_items'], startangle=90, shadow=True, autopct='%1.2f%%')\n",
    "\n",
    "plt.title(f'Recommendation with support percentage for {search_item}')\n",
    "\n",
    "plt.axis('equal')\n",
    "\n",
    "plt.show()"
   ]
  },
  {
   "cell_type": "markdown",
   "id": "89a90b7e",
   "metadata": {},
   "source": [
    "### Recommendation through patterns"
   ]
  },
  {
   "cell_type": "code",
   "execution_count": 45,
   "id": "c86d51c0",
   "metadata": {},
   "outputs": [
    {
     "name": "stdout",
     "output_type": "stream",
     "text": [
      "Pattern: ['margarine', 'other vegetables', 'soda', 'whole milk']\n",
      "\n",
      "Top 3 recommended items to buy along with pattern of margarine are:\n",
      "     similarity_scores recommended_items\n",
      "138           0.046498              soda\n",
      "111           0.041956              pork\n",
      "102           0.039132  other vegetables\n",
      "\n",
      "Top 3 recommended items to buy along with pattern of other vegetables are:\n",
      "     similarity_scores recommended_items\n",
      "138           0.066703              soda\n",
      "164           0.065697        whole milk\n",
      "56            0.060942       frankfurter\n",
      "\n",
      "Top 3 recommended items to buy along with pattern of soda are:\n",
      "     similarity_scores recommended_items\n",
      "102           0.066703  other vegetables\n",
      "164           0.065227        whole milk\n",
      "130           0.055992           sausage\n",
      "\n",
      "Top 3 recommended items to buy along with pattern of whole milk are:\n",
      "     similarity_scores recommended_items\n",
      "165           0.075707            yogurt\n",
      "122           0.075035        rolls/buns\n",
      "130           0.070839           sausage\n"
     ]
    }
   ],
   "source": [
    "#recommendation through patterns\n",
    "print(\"Pattern:\", list(patterns['predicted_items']))\n",
    "for index, row in patterns.iterrows():\n",
    "    predicted_items = row[\"predicted_items\"]\n",
    "    print(f\"\\nTop {no_of_recommendations} recommended items to buy along with pattern of {predicted_items} are:\")\n",
    "    recommendations = collaborative_filtering(filename, predicted_items)\n",
    "    print(recommendations.iloc[1:no_of_recommendations+1])"
   ]
  },
  {
   "cell_type": "code",
   "execution_count": 46,
   "id": "1635e469",
   "metadata": {},
   "outputs": [
    {
     "data": {
      "image/png": "[encoded data removed]",
      "text/plain": [
       "<Figure size 432x288 with 1 Axes>"
      ]
     },
     "metadata": {
      "needs_background": "light"
     },
     "output_type": "display_data"
    }
   ],
   "source": [
    "import matplotlib.pyplot as plt\n",
    "import numpy as np\n",
    "\n",
    "# Example data\n",
    "algorithms = ['Frequent Pattern', 'Collaborative filtering']\n",
    "times = [time_taken_pattern, time_taken_colaborative]  # in seconds\n",
    "\n",
    "# Create bar chart\n",
    "x = np.arange(len(algorithms))\n",
    "width = 0.5\n",
    "\n",
    "fig, ax = plt.subplots()\n",
    "rects = ax.bar(x, times, width)\n",
    "\n",
    "# Add some text for labels, title and custom x-axis tick labels, etc.\n",
    "ax.set_ylabel('Time (s)')\n",
    "ax.set_title('Time taken by algorithms')\n",
    "ax.set_xticks(x)\n",
    "ax.set_xticklabels(algorithms)\n",
    "\n",
    "# Add labels on top of each bar\n",
    "for rect in rects:\n",
    "    height = rect.get_height()\n",
    "    ax.annotate(f'{height:.1f}', xy=(rect.get_x() + rect.get_width() / 2, height),\n",
    "                xytext=(0, 3), textcoords='offset points', ha='center', va='bottom')\n",
    "\n",
    "# Show plot\n",
    "plt.show()\n"
   ]
  },
  {
   "cell_type": "markdown",
   "id": "f89a4f40",
   "metadata": {},
   "source": [
    "### Generating resuts on the test data"
   ]
  },
  {
   "cell_type": "code",
   "execution_count": 47,
   "id": "d5d9ec8a",
   "metadata": {},
   "outputs": [
    {
     "name": "stdout",
     "output_type": "stream",
     "text": [
      "The frequent items bought with yogurt are:\n",
      "   confidence   support predicted_items\n",
      "0    0.022333  0.001026          pastry\n",
      "1    0.024814  0.001140   shopping bags\n"
     ]
    }
   ],
   "source": [
    "#Parameters\n",
    "filename = \"Groceries data test.csv\"\n",
    "search_item = \"yogurt\"\n",
    "min_support = 0.001\n",
    "metric = \"lift\"\n",
    "min_threshold = 0.8\n",
    "no_of_recommendations = 3\n",
    "\n",
    "#Pattern mining\n",
    "print(f\"The frequent items bought with {search_item} are:\")\n",
    "results = frequent_pattern_mining(filename, search_item, min_support, metric, min_threshold)\n",
    "print(results)"
   ]
  },
  {
   "cell_type": "code",
   "execution_count": 48,
   "id": "7b74deed",
   "metadata": {},
   "outputs": [
    {
     "name": "stdout",
     "output_type": "stream",
     "text": [
      "\n",
      "Top 3 recommended items to buy along with yogurt are:\n",
      "     similarity_scores recommended_items\n",
      "129           0.032070     shopping bags\n",
      "90            0.030554   misc. beverages\n",
      "103           0.029301            pastry\n"
     ]
    }
   ],
   "source": [
    "#recommendation through data\n",
    "print(f\"\\nTop {no_of_recommendations} recommended items to buy along with {search_item} are:\")\n",
    "recommendations = collaborative_filtering(filename, search_item)\n",
    "print(recommendations.iloc[1:no_of_recommendations+1])"
   ]
  },
  {
   "cell_type": "code",
   "execution_count": 49,
   "id": "2cc98b2e",
   "metadata": {},
   "outputs": [
    {
     "name": "stdout",
     "output_type": "stream",
     "text": [
      "Pattern: ['margarine', 'other vegetables', 'soda', 'whole milk']\n",
      "\n",
      "Top 3 recommended items to buy along with pattern of margarine are:\n",
      "     similarity_scores recommended_items\n",
      "120           0.032553   root vegetables\n",
      "132           0.028583    snack products\n",
      "12            0.025854            brandy\n",
      "\n",
      "Top 3 recommended items to buy along with pattern of other vegetables are:\n",
      "     similarity_scores recommended_items\n",
      "119           0.043278        rolls/buns\n",
      "159           0.041841        whole milk\n",
      "11            0.035202     bottled water\n",
      "\n",
      "Top 3 recommended items to buy along with pattern of soda are:\n",
      "     similarity_scores recommended_items\n",
      "17            0.037905           candles\n",
      "149           0.030949               tea\n",
      "53            0.030392    flower (seeds)\n",
      "\n",
      "Top 3 recommended items to buy along with pattern of whole milk are:\n",
      "     similarity_scores recommended_items\n",
      "100           0.041841  other vegetables\n",
      "119           0.039775        rolls/buns\n",
      "151           0.033518    tropical fruit\n"
     ]
    }
   ],
   "source": [
    "#recommendation through patterns\n",
    "print(\"Pattern:\", list(patterns['predicted_items']))\n",
    "for index, row in patterns.iterrows():\n",
    "    predicted_items = row[\"predicted_items\"]\n",
    "    print(f\"\\nTop {no_of_recommendations} recommended items to buy along with pattern of {predicted_items} are:\")\n",
    "    recommendations = collaborative_filtering(filename, predicted_items)\n",
    "    print(recommendations.iloc[1:no_of_recommendations+1])"
   ]
  }
 ],
 "metadata": {
  "kernelspec": {
   "display_name": "Python 3 (ipykernel)",
   "language": "python",
   "name": "python3"
  },
  "language_info": {
   "codemirror_mode": {
    "name": "ipython",
    "version": 3
   },
   "file_extension": ".py",
   "mimetype": "text/x-python",
   "name": "python",
   "nbconvert_exporter": "python",
   "pygments_lexer": "ipython3",
   "version": "3.10.9"
  }
 },
 "nbformat": 4,
 "nbformat_minor": 5
}
